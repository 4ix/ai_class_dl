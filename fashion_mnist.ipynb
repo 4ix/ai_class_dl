{
 "cells": [
  {
   "cell_type": "markdown",
   "metadata": {},
   "source": [
    "### fashion_mnist"
   ]
  },
  {
   "cell_type": "code",
   "execution_count": 2,
   "metadata": {},
   "outputs": [],
   "source": [
    "import numpy as np\n",
    "import pandas as pd\n",
    "import matplotlib.pyplot as plt\n",
    "import seaborn as sns\n",
    "from tensorflow import keras\n",
    "from sklearn.model_selection import train_test_split"
   ]
  },
  {
   "cell_type": "code",
   "execution_count": 3,
   "metadata": {},
   "outputs": [],
   "source": [
    "(X_train, y_train), (X_test, y_test) = keras.datasets.fashion_mnist.load_data()"
   ]
  },
  {
   "cell_type": "code",
   "execution_count": 4,
   "metadata": {},
   "outputs": [
    {
     "name": "stdout",
     "output_type": "stream",
     "text": [
      "(60000, 28, 28) (60000,)\n",
      "(10000, 28, 28) (10000,)\n"
     ]
    }
   ],
   "source": [
    "print(X_train.shape, y_train.shape)\n",
    "print(X_test.shape, y_test.shape)"
   ]
  },
  {
   "cell_type": "code",
   "execution_count": 5,
   "metadata": {},
   "outputs": [
    {
     "data": {
      "text/plain": [
       "(array([0, 1, 2, 3, 4, 5, 6, 7, 8, 9], dtype=uint8),\n",
       " array([6000, 6000, 6000, 6000, 6000, 6000, 6000, 6000, 6000, 6000],\n",
       "       dtype=int64))"
      ]
     },
     "execution_count": 5,
     "metadata": {},
     "output_type": "execute_result"
    }
   ],
   "source": [
    "np.unique(y_train, return_counts=True) # uint8은 부호없는 정수이기 때문에 float로 변경 작업 필요"
   ]
  },
  {
   "cell_type": "code",
   "execution_count": 6,
   "metadata": {},
   "outputs": [
    {
     "data": {
      "image/png": "[encoded data removed]",
      "text/plain": [
       "<Figure size 640x480 with 1 Axes>"
      ]
     },
     "metadata": {},
     "output_type": "display_data"
    }
   ],
   "source": [
    "plt.imshow(X_train[0], cmap='gray')\n",
    "plt.show()"
   ]
  },
  {
   "cell_type": "code",
   "execution_count": 8,
   "metadata": {},
   "outputs": [],
   "source": [
    "X_train = (X_train/255.).reshape(-1, 28, 28, 1) # 마지막이 1인 이유? 흑백이라서..\n",
    "X_test = (X_test/255.).reshape(-1, 28, 28, 1)"
   ]
  },
  {
   "cell_type": "code",
   "execution_count": 7,
   "metadata": {},
   "outputs": [
    {
     "name": "stdout",
     "output_type": "stream",
     "text": [
      "(60000, 10)\n",
      "[0. 0. 0. 0. 0. 0. 0. 0. 0. 1.]\n"
     ]
    }
   ],
   "source": [
    "## y-onehot 인코딩\n",
    "y_train_hot = keras.utils.to_categorical(y_train)\n",
    "y_test_hot = keras.utils.to_categorical(y_test)\n",
    "print(y_train_hot.shape)\n",
    "print(y_train_hot[0])"
   ]
  },
  {
   "cell_type": "code",
   "execution_count": 9,
   "metadata": {},
   "outputs": [
    {
     "name": "stdout",
     "output_type": "stream",
     "text": [
      "(60000, 28, 28, 1) (60000,)\n",
      "(10000, 28, 28, 1) (10000,)\n"
     ]
    }
   ],
   "source": [
    "print(X_train.shape, y_train.shape)\n",
    "print(X_test.shape, y_test.shape)"
   ]
  },
  {
   "cell_type": "code",
   "execution_count": 49,
   "metadata": {},
   "outputs": [
    {
     "ename": "NameError",
     "evalue": "name 'model' is not defined",
     "output_type": "error",
     "traceback": [
      "\u001b[1;31m---------------------------------------------------------------------------\u001b[0m",
      "\u001b[1;31mNameError\u001b[0m                                 Traceback (most recent call last)",
      "Cell \u001b[1;32mIn[49], line 1\u001b[0m\n\u001b[1;32m----> 1\u001b[0m \u001b[39mdel\u001b[39;00m model\n",
      "\u001b[1;31mNameError\u001b[0m: name 'model' is not defined"
     ]
    }
   ],
   "source": [
    "del model"
   ]
  },
  {
   "cell_type": "code",
   "execution_count": 50,
   "metadata": {},
   "outputs": [
    {
     "name": "stdout",
     "output_type": "stream",
     "text": [
      "Model: \"mnist_cnn\"\n",
      "_________________________________________________________________\n",
      " Layer (type)                Output Shape              Param #   \n",
      "=================================================================\n",
      " conv2d_23 (Conv2D)          (None, 24, 24, 32)        832       \n",
      "                                                                 \n",
      " conv2d_24 (Conv2D)          (None, 20, 20, 64)        51264     \n",
      "                                                                 \n",
      " max_pooling2d_18 (MaxPoolin  (None, 10, 10, 64)       0         \n",
      " g2D)                                                            \n",
      "                                                                 \n",
      " flatten_10 (Flatten)        (None, 6400)              0         \n",
      "                                                                 \n",
      " dense_21 (Dense)            (None, 128)               819328    \n",
      "                                                                 \n",
      " dropout_11 (Dropout)        (None, 128)               0         \n",
      "                                                                 \n",
      " dense_22 (Dense)            (None, 10)                1290      \n",
      "                                                                 \n",
      "=================================================================\n",
      "Total params: 872,714\n",
      "Trainable params: 872,714\n",
      "Non-trainable params: 0\n",
      "_________________________________________________________________\n"
     ]
    }
   ],
   "source": [
    "model = keras.Sequential(name='mnist_cnn')\n",
    "model.add(keras.layers.Conv2D(32, input_shape = (28, 28, 1), kernel_size = (5,5), activation='relu'))\n",
    "model.add(keras.layers.Conv2D(64, kernel_size = (5,5), activation='relu'))\n",
    "model.add(keras.layers.MaxPooling2D(pool_size=2))\n",
    "model.add(keras.layers.Flatten())\n",
    "model.add(keras.layers.Dense(128, activation='relu'))\n",
    "model.add(keras.layers.Dropout(0.3))\n",
    "model.add(keras.layers.Dense(10, activation='softmax'))\n",
    "model.summary()"
   ]
  },
  {
   "cell_type": "code",
   "execution_count": 51,
   "metadata": {},
   "outputs": [
    {
     "name": "stdout",
     "output_type": "stream",
     "text": [
      "Epoch 1/100\n",
      "210/210 [==============================] - ETA: 0s - loss: 0.6212 - acc: 0.7778\n",
      "Epoch 1: val_loss improved from inf to 0.39209, saving model to ./model\\fashion2_mnist_best_cnn.hdf5\n",
      "210/210 [==============================] - 21s 95ms/step - loss: 0.6212 - acc: 0.7778 - val_loss: 0.3921 - val_acc: 0.8575\n",
      "Epoch 2/100\n",
      "210/210 [==============================] - ETA: 0s - loss: 0.3797 - acc: 0.8641\n",
      "Epoch 2: val_loss improved from 0.39209 to 0.33137, saving model to ./model\\fashion2_mnist_best_cnn.hdf5\n",
      "210/210 [==============================] - 20s 94ms/step - loss: 0.3797 - acc: 0.8641 - val_loss: 0.3314 - val_acc: 0.8807\n",
      "Epoch 3/100\n",
      "210/210 [==============================] - ETA: 0s - loss: 0.3235 - acc: 0.8843\n",
      "Epoch 3: val_loss improved from 0.33137 to 0.29777, saving model to ./model\\fashion2_mnist_best_cnn.hdf5\n",
      "210/210 [==============================] - 20s 94ms/step - loss: 0.3235 - acc: 0.8843 - val_loss: 0.2978 - val_acc: 0.8922\n",
      "Epoch 4/100\n",
      "210/210 [==============================] - ETA: 0s - loss: 0.2841 - acc: 0.8962\n",
      "Epoch 4: val_loss improved from 0.29777 to 0.27779, saving model to ./model\\fashion2_mnist_best_cnn.hdf5\n",
      "210/210 [==============================] - 20s 94ms/step - loss: 0.2841 - acc: 0.8962 - val_loss: 0.2778 - val_acc: 0.8983\n",
      "Epoch 5/100\n",
      "210/210 [==============================] - ETA: 0s - loss: 0.2587 - acc: 0.9051\n",
      "Epoch 5: val_loss improved from 0.27779 to 0.25912, saving model to ./model\\fashion2_mnist_best_cnn.hdf5\n",
      "210/210 [==============================] - 20s 93ms/step - loss: 0.2587 - acc: 0.9051 - val_loss: 0.2591 - val_acc: 0.9059\n",
      "Epoch 6/100\n",
      "210/210 [==============================] - ETA: 0s - loss: 0.2321 - acc: 0.9159\n",
      "Epoch 6: val_loss improved from 0.25912 to 0.25041, saving model to ./model\\fashion2_mnist_best_cnn.hdf5\n",
      "210/210 [==============================] - 20s 94ms/step - loss: 0.2321 - acc: 0.9159 - val_loss: 0.2504 - val_acc: 0.9111\n",
      "Epoch 7/100\n",
      "210/210 [==============================] - ETA: 0s - loss: 0.2153 - acc: 0.9201\n",
      "Epoch 7: val_loss improved from 0.25041 to 0.25034, saving model to ./model\\fashion2_mnist_best_cnn.hdf5\n",
      "210/210 [==============================] - 20s 95ms/step - loss: 0.2153 - acc: 0.9201 - val_loss: 0.2503 - val_acc: 0.9104\n",
      "Epoch 8/100\n",
      "210/210 [==============================] - ETA: 0s - loss: 0.1981 - acc: 0.9272\n",
      "Epoch 8: val_loss improved from 0.25034 to 0.24795, saving model to ./model\\fashion2_mnist_best_cnn.hdf5\n",
      "210/210 [==============================] - 20s 95ms/step - loss: 0.1981 - acc: 0.9272 - val_loss: 0.2479 - val_acc: 0.9142\n",
      "Epoch 9/100\n",
      "210/210 [==============================] - ETA: 0s - loss: 0.1800 - acc: 0.9343\n",
      "Epoch 9: val_loss improved from 0.24795 to 0.24228, saving model to ./model\\fashion2_mnist_best_cnn.hdf5\n",
      "210/210 [==============================] - 20s 94ms/step - loss: 0.1800 - acc: 0.9343 - val_loss: 0.2423 - val_acc: 0.9154\n",
      "Epoch 10/100\n",
      "210/210 [==============================] - ETA: 0s - loss: 0.1671 - acc: 0.9385\n",
      "Epoch 10: val_loss did not improve from 0.24228\n",
      "210/210 [==============================] - 20s 94ms/step - loss: 0.1671 - acc: 0.9385 - val_loss: 0.2450 - val_acc: 0.9174\n",
      "Epoch 11/100\n",
      "210/210 [==============================] - ETA: 0s - loss: 0.1505 - acc: 0.9441\n",
      "Epoch 11: val_loss improved from 0.24228 to 0.23840, saving model to ./model\\fashion2_mnist_best_cnn.hdf5\n",
      "210/210 [==============================] - 20s 95ms/step - loss: 0.1505 - acc: 0.9441 - val_loss: 0.2384 - val_acc: 0.9196\n",
      "Epoch 12/100\n",
      "210/210 [==============================] - ETA: 0s - loss: 0.1362 - acc: 0.9474\n",
      "Epoch 12: val_loss did not improve from 0.23840\n",
      "210/210 [==============================] - 20s 95ms/step - loss: 0.1362 - acc: 0.9474 - val_loss: 0.2581 - val_acc: 0.9181\n",
      "Epoch 13/100\n",
      "210/210 [==============================] - ETA: 0s - loss: 0.1268 - acc: 0.9514\n",
      "Epoch 13: val_loss did not improve from 0.23840\n",
      "210/210 [==============================] - 20s 96ms/step - loss: 0.1268 - acc: 0.9514 - val_loss: 0.2451 - val_acc: 0.9184\n",
      "Epoch 14/100\n",
      "210/210 [==============================] - ETA: 0s - loss: 0.1158 - acc: 0.9564\n",
      "Epoch 14: val_loss did not improve from 0.23840\n",
      "210/210 [==============================] - 20s 97ms/step - loss: 0.1158 - acc: 0.9564 - val_loss: 0.2703 - val_acc: 0.9153\n",
      "Epoch 15/100\n",
      "210/210 [==============================] - ETA: 0s - loss: 0.1073 - acc: 0.9597\n",
      "Epoch 15: val_loss did not improve from 0.23840\n",
      "210/210 [==============================] - 20s 96ms/step - loss: 0.1073 - acc: 0.9597 - val_loss: 0.2676 - val_acc: 0.9199\n",
      "Epoch 16/100\n",
      "210/210 [==============================] - ETA: 0s - loss: 0.0975 - acc: 0.9623\n",
      "Epoch 16: val_loss did not improve from 0.23840\n",
      "210/210 [==============================] - 20s 96ms/step - loss: 0.0975 - acc: 0.9623 - val_loss: 0.2818 - val_acc: 0.9178\n",
      "Epoch 17/100\n",
      "210/210 [==============================] - ETA: 0s - loss: 0.0863 - acc: 0.9682\n",
      "Epoch 17: val_loss did not improve from 0.23840\n",
      "210/210 [==============================] - 20s 96ms/step - loss: 0.0863 - acc: 0.9682 - val_loss: 0.2946 - val_acc: 0.9216\n",
      "Epoch 18/100\n",
      "210/210 [==============================] - ETA: 0s - loss: 0.0791 - acc: 0.9700\n",
      "Epoch 18: val_loss did not improve from 0.23840\n",
      "210/210 [==============================] - 20s 95ms/step - loss: 0.0791 - acc: 0.9700 - val_loss: 0.3005 - val_acc: 0.9179\n",
      "Epoch 19/100\n",
      "210/210 [==============================] - ETA: 0s - loss: 0.0743 - acc: 0.9721\n",
      "Epoch 19: val_loss did not improve from 0.23840\n",
      "210/210 [==============================] - 20s 97ms/step - loss: 0.0743 - acc: 0.9721 - val_loss: 0.3054 - val_acc: 0.9184\n",
      "Epoch 20/100\n",
      "210/210 [==============================] - ETA: 0s - loss: 0.0670 - acc: 0.9749\n",
      "Epoch 20: val_loss did not improve from 0.23840\n",
      "210/210 [==============================] - 20s 95ms/step - loss: 0.0670 - acc: 0.9749 - val_loss: 0.3189 - val_acc: 0.9198\n",
      "Epoch 21/100\n",
      "210/210 [==============================] - ETA: 0s - loss: 0.0626 - acc: 0.9767\n",
      "Epoch 21: val_loss did not improve from 0.23840\n",
      "210/210 [==============================] - 20s 97ms/step - loss: 0.0626 - acc: 0.9767 - val_loss: 0.3215 - val_acc: 0.9213\n",
      "313/313 [==============================] - 3s 10ms/step - loss: 0.3365 - acc: 0.9171\n"
     ]
    },
    {
     "data": {
      "text/plain": [
       "[0.3364604115486145, 0.9171000123023987]"
      ]
     },
     "execution_count": 51,
     "metadata": {},
     "output_type": "execute_result"
    }
   ],
   "source": [
    "model.compile(loss='categorical_crossentropy', optimizer='adam', metrics='acc')\n",
    "model_path='./model/fashion2_mnist_best_cnn.hdf5'\n",
    "checkpoint = keras.callbacks.ModelCheckpoint(filepath=model_path, verbose=1, save_best_only=True)\n",
    "earlystop = keras.callbacks.EarlyStopping(patience=10)\n",
    "history = model.fit(X_train, y_train_hot, validation_split=0.3, epochs=100, batch_size=200, callbacks=[checkpoint,earlystop])\n",
    "\n",
    "model.evaluate(X_test, y_test_hot)"
   ]
  },
  {
   "cell_type": "code",
   "execution_count": 58,
   "metadata": {},
   "outputs": [
    {
     "name": "stdout",
     "output_type": "stream",
     "text": [
      "313/313 [==============================] - 3s 9ms/step - loss: 0.2398 - acc: 0.9163\n"
     ]
    },
    {
     "data": {
      "text/plain": [
       "[0.23981469869613647, 0.9162999987602234]"
      ]
     },
     "execution_count": 58,
     "metadata": {},
     "output_type": "execute_result"
    }
   ],
   "source": [
    "model_imported = keras.models.load_model('./model/fashion0_mnist_best_cnn.hdf5')\n",
    "model_imported.evaluate(X_test, y_test_hot)"
   ]
  }
 ],
 "metadata": {
  "kernelspec": {
   "display_name": "deeplearning",
   "language": "python",
   "name": "python3"
  },
  "language_info": {
   "codemirror_mode": {
    "name": "ipython",
    "version": 3
   },
   "file_extension": ".py",
   "mimetype": "text/x-python",
   "name": "python",
   "nbconvert_exporter": "python",
   "pygments_lexer": "ipython3",
   "version": "3.8.16"
  },
  "orig_nbformat": 4,
  "vscode": {
   "interpreter": {
    "hash": "c381a02c790371f446e82335a49413d76a5d4066b7efd29c82f48d4ece28e467"
   }
  }
 },
 "nbformat": 4,
 "nbformat_minor": 2
}
